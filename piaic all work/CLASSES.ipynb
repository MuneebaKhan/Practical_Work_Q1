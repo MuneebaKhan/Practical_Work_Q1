{
 "cells": [
  {
   "cell_type": "raw",
   "metadata": {},
   "source": [
    "instance object se belong kia jata hai..Object ki class bnai jati hai."
   ]
  },
  {
   "cell_type": "raw",
   "metadata": {},
   "source": [
    "For eg Any car launch jb sb se pehele car launch ki gai wo class phr usko dekh kar jo bnai gai wo us class ka object hain\n",
    "sare  object us class ko follow karte hain..It mean same copy hua wa ho\n",
    "Object ki properties or behavior hote hain"
   ]
  },
  {
   "cell_type": "code",
   "execution_count": 3,
   "metadata": {},
   "outputs": [],
   "source": [
    "class Mobile():\n",
    "    #attributes(#attribute programing term mai hm variable kahte hain)\n",
    "    #same work it always time(#Self ke andar wo properties ayn gi jo us \n",
    "    #mai lazmi hongi uske bagair complete nhi)\n",
    "    #init ko intilizer kehhte lekn or jagahun pr constructor bhi kehte hain\n",
    "    #SELF = Mean wo override nhi kar rha hota blke self copy bna rha hota hai\n",
    "    def __init__(self, brand, color, price, memory, ram):\n",
    "        self.mobilebrand = brand\n",
    "        self.mobilecolor = color\n",
    "        self.mobileprize = price\n",
    "        self.mobilememory = memory\n",
    "        self.mobileram = ram\n",
    "    def makeCall(self):\n",
    "        print(f\"{self.mobilebrand} mobile is calling\")\n",
    "    def recvCall(self):\n",
    "        print(f\"{self.mobilebrand} mobile is recving a call\")\n",
    "    def sendMessage(self):\n",
    "        print(f\"{self.mobilebrand} mobile is sending a message\")\n",
    "    def recvMessage(self):\n",
    "        print(f\"{self.mobilebrand} mobile is receiving a message\")\n",
    "    def presskeyPad(self):\n",
    "        print(\"Key pad is press to dial a number or message\")\n",
    "        \n",
    "    '''color\n",
    "    screen size\n",
    "    ram\n",
    "    memory\n",
    "    price'''\n",
    "    #behaviors\n",
    "    '''makesAcall\n",
    "    recieveAcall\n",
    "    dropAcall\n",
    "    messagewrite\n",
    "    messageread\n",
    "    messagesend\n",
    "    messagerecv'''"
   ]
  },
  {
   "cell_type": "code",
   "execution_count": 4,
   "metadata": {},
   "outputs": [],
   "source": [
    "mobile1 = Mobile(\"Nokia\",\"black\",10000,\"16GB\",\"2GB\")\n"
   ]
  },
  {
   "cell_type": "code",
   "execution_count": 11,
   "metadata": {},
   "outputs": [],
   "source": [
    "mobile2 = Mobile(\"Samsung\",\"white\",10000,\"14GB\",\"1GB\")"
   ]
  },
  {
   "cell_type": "code",
   "execution_count": 12,
   "metadata": {},
   "outputs": [
    {
     "name": "stdout",
     "output_type": "stream",
     "text": [
      "Nokia color is black \n"
     ]
    }
   ],
   "source": [
    "print(f'{mobile1.mobilebrand} color is {mobile1.mobilecolor} ')"
   ]
  },
  {
   "cell_type": "code",
   "execution_count": 15,
   "metadata": {},
   "outputs": [
    {
     "name": "stdout",
     "output_type": "stream",
     "text": [
      "Samsung color is white \n"
     ]
    }
   ],
   "source": [
    "print(f'{mobile2.mobilebrand} color is {mobile2.mobilecolor} ')"
   ]
  },
  {
   "cell_type": "code",
   "execution_count": 14,
   "metadata": {},
   "outputs": [
    {
     "data": {
      "text/plain": [
       "'2GB'"
      ]
     },
     "execution_count": 14,
     "metadata": {},
     "output_type": "execute_result"
    }
   ],
   "source": [
    "mobile1.mobileram"
   ]
  },
  {
   "cell_type": "code",
   "execution_count": 290,
   "metadata": {},
   "outputs": [
    {
     "data": {
      "text/plain": [
       "10000"
      ]
     },
     "execution_count": 290,
     "metadata": {},
     "output_type": "execute_result"
    }
   ],
   "source": [
    "mobile1.mobileprize"
   ]
  },
  {
   "cell_type": "code",
   "execution_count": 291,
   "metadata": {},
   "outputs": [
    {
     "data": {
      "text/plain": [
       "'16GB'"
      ]
     },
     "execution_count": 291,
     "metadata": {},
     "output_type": "execute_result"
    }
   ],
   "source": [
    "mobile1.mobilememory"
   ]
  },
  {
   "cell_type": "code",
   "execution_count": 292,
   "metadata": {},
   "outputs": [
    {
     "data": {
      "text/plain": [
       "'Nokia'"
      ]
     },
     "execution_count": 292,
     "metadata": {},
     "output_type": "execute_result"
    }
   ],
   "source": [
    "mobile1.mobilebrand"
   ]
  },
  {
   "cell_type": "code",
   "execution_count": 293,
   "metadata": {},
   "outputs": [
    {
     "name": "stdout",
     "output_type": "stream",
     "text": [
      "Nokia mobile is sending a message\n"
     ]
    }
   ],
   "source": [
    "mobile1.sendMessage()"
   ]
  },
  {
   "cell_type": "code",
   "execution_count": 294,
   "metadata": {},
   "outputs": [
    {
     "name": "stdout",
     "output_type": "stream",
     "text": [
      "Nokia mobile is receiving a message\n"
     ]
    }
   ],
   "source": [
    "mobile1.recvMessage()"
   ]
  },
  {
   "cell_type": "code",
   "execution_count": 295,
   "metadata": {},
   "outputs": [
    {
     "name": "stdout",
     "output_type": "stream",
     "text": [
      "Nokia mobile is sending a message\n"
     ]
    }
   ],
   "source": [
    "mobile1.sendMessage()"
   ]
  },
  {
   "cell_type": "code",
   "execution_count": 296,
   "metadata": {},
   "outputs": [
    {
     "name": "stdout",
     "output_type": "stream",
     "text": [
      "Samsung mobile is recving a call\n",
      "Samsung mobile is receiving a message\n",
      "Samsung mobile is sending a message\n",
      "Samsung mobile is calling\n",
      "Key pad is press to dial a number or message\n"
     ]
    }
   ],
   "source": [
    "mobile2.recvCall()\n",
    "mobile2.recvMessage()\n",
    "mobile2.sendMessage()\n",
    "mobile2.makeCall()\n",
    "mobile2.presskeyPad()"
   ]
  },
  {
   "cell_type": "code",
   "execution_count": 28,
   "metadata": {},
   "outputs": [],
   "source": [
    "class Student():\n",
    "    def __init__(self, name, gender, course, email,GPA):\n",
    "        self.name = name\n",
    "        self.gender = gender\n",
    "        self.course = course\n",
    "        self.email = email\n",
    "        self.GPA = 0\n",
    "    def getGPA(self):\n",
    "        print(f\" The GPA of {self.name} is {self.GPA}\")\n",
    "    def setGPA(self,newGPA):\n",
    "        self.GPA = newGPA\n",
    "        print(f\" The GPA of {self.name} is {self.GPA}\")\n",
    "    def study(self):\n",
    "        print(f\"{self.name} is studying\")\n",
    "    def exam(self):\n",
    "        print(f\"{self.name} is appearing exam\")\n",
    "    def submitAssignment(self):\n",
    "        print(f\"{self.name} is submitting assignment\")\n",
    "    "
   ]
  },
  {
   "cell_type": "code",
   "execution_count": 29,
   "metadata": {},
   "outputs": [],
   "source": [
    "S1 = Student(\"Muniba\",\"Female\",\"AI\",\"munibakhan9125@gmail.com\",0)"
   ]
  },
  {
   "cell_type": "code",
   "execution_count": 30,
   "metadata": {},
   "outputs": [],
   "source": [
    "S2 = Student(\"Zaid\",\"Male\",\"IOT\",\"zaid90@mail.com\",0)"
   ]
  },
  {
   "cell_type": "code",
   "execution_count": 32,
   "metadata": {},
   "outputs": [
    {
     "data": {
      "text/plain": [
       "0"
      ]
     },
     "execution_count": 32,
     "metadata": {},
     "output_type": "execute_result"
    }
   ],
   "source": [
    "S2.GPA"
   ]
  },
  {
   "cell_type": "code",
   "execution_count": 33,
   "metadata": {},
   "outputs": [
    {
     "name": "stdout",
     "output_type": "stream",
     "text": [
      " The GPA of Zaid is 4.0\n"
     ]
    }
   ],
   "source": [
    "S2.setGPA(4.0)"
   ]
  },
  {
   "cell_type": "code",
   "execution_count": 34,
   "metadata": {},
   "outputs": [
    {
     "name": "stdout",
     "output_type": "stream",
     "text": [
      " The GPA of Zaid is 4.0\n"
     ]
    }
   ],
   "source": [
    "S2.getGPA()"
   ]
  },
  {
   "cell_type": "code",
   "execution_count": 19,
   "metadata": {},
   "outputs": [
    {
     "data": {
      "text/plain": [
       "'Muniba'"
      ]
     },
     "execution_count": 19,
     "metadata": {},
     "output_type": "execute_result"
    }
   ],
   "source": [
    "S1.name"
   ]
  },
  {
   "cell_type": "code",
   "execution_count": 20,
   "metadata": {},
   "outputs": [
    {
     "data": {
      "text/plain": [
       "'Female'"
      ]
     },
     "execution_count": 20,
     "metadata": {},
     "output_type": "execute_result"
    }
   ],
   "source": [
    "S1.gender"
   ]
  },
  {
   "cell_type": "code",
   "execution_count": 21,
   "metadata": {},
   "outputs": [
    {
     "data": {
      "text/plain": [
       "0"
      ]
     },
     "execution_count": 21,
     "metadata": {},
     "output_type": "execute_result"
    }
   ],
   "source": [
    "S1.GPA"
   ]
  },
  {
   "cell_type": "code",
   "execution_count": 22,
   "metadata": {},
   "outputs": [],
   "source": [
    "#GPA Ko kisi self attribute mai change karna\n",
    "#hm ne is value ko change karne ke liye  direct get kia isko hme  direct hit nhi karwana chahiye blke ek function mai or us \n",
    "#function ko call kare.\n",
    "S1.GPA = 3.2"
   ]
  },
  {
   "cell_type": "code",
   "execution_count": 23,
   "metadata": {},
   "outputs": [
    {
     "data": {
      "text/plain": [
       "3.2"
      ]
     },
     "execution_count": 23,
     "metadata": {},
     "output_type": "execute_result"
    }
   ],
   "source": [
    "S1.GPA"
   ]
  },
  {
   "cell_type": "code",
   "execution_count": 24,
   "metadata": {},
   "outputs": [
    {
     "data": {
      "text/plain": [
       "'Zaid'"
      ]
     },
     "execution_count": 24,
     "metadata": {},
     "output_type": "execute_result"
    }
   ],
   "source": [
    "S2.name"
   ]
  },
  {
   "cell_type": "code",
   "execution_count": 25,
   "metadata": {},
   "outputs": [
    {
     "data": {
      "text/plain": [
       "'Male'"
      ]
     },
     "execution_count": 25,
     "metadata": {},
     "output_type": "execute_result"
    }
   ],
   "source": [
    "S2.gender"
   ]
  },
  {
   "cell_type": "code",
   "execution_count": 26,
   "metadata": {},
   "outputs": [
    {
     "data": {
      "text/plain": [
       "0"
      ]
     },
     "execution_count": 26,
     "metadata": {},
     "output_type": "execute_result"
    }
   ],
   "source": [
    "S2.GPA"
   ]
  },
  {
   "cell_type": "code",
   "execution_count": 27,
   "metadata": {},
   "outputs": [
    {
     "name": "stdout",
     "output_type": "stream",
     "text": [
      "Muniba is studying\n",
      "Muniba is appearing exam\n",
      "Muniba is submitting assignment\n"
     ]
    }
   ],
   "source": [
    "S1.study()\n",
    "S1.exam()\n",
    "S1.submitAssignment()"
   ]
  },
  {
   "cell_type": "code",
   "execution_count": 309,
   "metadata": {},
   "outputs": [
    {
     "name": "stdout",
     "output_type": "stream",
     "text": [
      "Zaid is studying\n",
      "Zaid is appearing exam\n",
      "Zaid is submitting assignment\n"
     ]
    }
   ],
   "source": [
    "S2.study()\n",
    "S2.exam()\n",
    "S2.submitAssignment()"
   ]
  },
  {
   "cell_type": "markdown",
   "metadata": {},
   "source": [
    "# UPDATING A VALUE OF ATTRIBUTE VIA FUNCTION"
   ]
  },
  {
   "cell_type": "code",
   "execution_count": 310,
   "metadata": {},
   "outputs": [
    {
     "name": "stdout",
     "output_type": "stream",
     "text": [
      " The GPA of Muniba is 3.2\n"
     ]
    }
   ],
   "source": [
    "S1.getGPA()"
   ]
  },
  {
   "cell_type": "code",
   "execution_count": 311,
   "metadata": {},
   "outputs": [
    {
     "name": "stdout",
     "output_type": "stream",
     "text": [
      " The GPA of Muniba is 4.0\n"
     ]
    }
   ],
   "source": [
    "S1.setGPA(4.00)"
   ]
  },
  {
   "cell_type": "code",
   "execution_count": 312,
   "metadata": {},
   "outputs": [
    {
     "name": "stdout",
     "output_type": "stream",
     "text": [
      " The GPA of Muniba is 4.0\n"
     ]
    }
   ],
   "source": [
    "S1.getGPA()"
   ]
  },
  {
   "cell_type": "code",
   "execution_count": 313,
   "metadata": {},
   "outputs": [
    {
     "name": "stdout",
     "output_type": "stream",
     "text": [
      " The GPA of Zaid is 0\n"
     ]
    }
   ],
   "source": [
    "S2.getGPA()"
   ]
  },
  {
   "cell_type": "code",
   "execution_count": 314,
   "metadata": {},
   "outputs": [
    {
     "name": "stdout",
     "output_type": "stream",
     "text": [
      " The GPA of Zaid is 3.0\n"
     ]
    }
   ],
   "source": [
    "S2.setGPA(3.00)"
   ]
  },
  {
   "cell_type": "markdown",
   "metadata": {},
   "source": [
    "# INHERITANCE"
   ]
  },
  {
   "cell_type": "code",
   "execution_count": 325,
   "metadata": {},
   "outputs": [],
   "source": [
    "#code reusabillity ko reduce karne ke liye\n",
    "class SmarthMobile(Mobile):\n",
    "    def __init__(self,brand,color,price,memory,ram):\n",
    "        super(). __init__(brand,color,price,memory,ram)#super laga kar parent class ka initillize\n",
    "        #access karle ge\n",
    "        self.battery = \"10amp\" #child ka apna new attribute hai jo parent mai mojood nhi hai\n",
    "    def camera(self):\n",
    "        print(\"Smart Camera is On\")\n",
    "    def presskeyPad(self):#ek esa function jo parent se inherit hokar child mai arha hai to hm us read karwa ka method ko dubara child mai define kar ke \"override\" kardege\n",
    "        print(\"There is no keypad in smarthphone\")"
   ]
  },
  {
   "cell_type": "code",
   "execution_count": 326,
   "metadata": {},
   "outputs": [],
   "source": [
    "sml = SmarthMobile(\"Nokia\",\"black\",5000,\"32GB\",\"2GB\")"
   ]
  },
  {
   "cell_type": "markdown",
   "metadata": {},
   "source": [
    "# INHERITANCE\n"
   ]
  },
  {
   "cell_type": "code",
   "execution_count": 39,
   "metadata": {},
   "outputs": [],
   "source": [
    "class Battery():\n",
    "    def __init__(self,manu,amp,warranty,price,size):\n",
    "        self.manu = manu\n",
    "        self.amp = amp\n",
    "        self.warranty = warranty\n",
    "        self.price = price\n",
    "        self.size = 20\n",
    "    def getBattery(self):\n",
    "        print(f\"The battery size is {self.size}\")\n",
    "    def setBattery(self,newsize):\n",
    "        self.size = newsize\n",
    "        \n",
    "    "
   ]
  },
  {
   "cell_type": "code",
   "execution_count": 40,
   "metadata": {},
   "outputs": [],
   "source": [
    "class Car():\n",
    "    def __init__(self, make, model, year):\n",
    "        self.make = make\n",
    "        self.model = model\n",
    "        self.year = year\n",
    "        self.battery = Battery(\"AGS\",\"200amp\",\"12Months\",20000,20)\n",
    "        # make battery object and used as an attribute in car class(battery ki seprate class bnadi)\n",
    "    def descar(self):\n",
    "        print(f\"Description: {self.make} & {self.model}  & {self.year}\")"
   ]
  },
  {
   "cell_type": "code",
   "execution_count": 44,
   "metadata": {},
   "outputs": [],
   "source": [
    "class ElectricCar(Car):\n",
    "       pass"
   ]
  },
  {
   "cell_type": "code",
   "execution_count": 45,
   "metadata": {},
   "outputs": [],
   "source": [
    "ecar1 = ElectricCar(\"civic\",\"mycar\", 2019)"
   ]
  },
  {
   "cell_type": "code",
   "execution_count": 66,
   "metadata": {},
   "outputs": [
    {
     "data": {
      "text/plain": [
       "'civic'"
      ]
     },
     "execution_count": 66,
     "metadata": {},
     "output_type": "execute_result"
    }
   ],
   "source": [
    "ecar1.make"
   ]
  },
  {
   "cell_type": "code",
   "execution_count": 67,
   "metadata": {},
   "outputs": [
    {
     "name": "stdout",
     "output_type": "stream",
     "text": [
      "Description: civic & mycar  & 2019\n"
     ]
    }
   ],
   "source": [
    "ecar1.descar()"
   ]
  },
  {
   "cell_type": "code",
   "execution_count": 58,
   "metadata": {},
   "outputs": [
    {
     "name": "stdout",
     "output_type": "stream",
     "text": [
      "The battery size is 20\n"
     ]
    }
   ],
   "source": [
    "ecar1.battery.getBattery()"
   ]
  },
  {
   "cell_type": "code",
   "execution_count": 59,
   "metadata": {},
   "outputs": [],
   "source": [
    "ecar1.battery.setBattery(220)"
   ]
  },
  {
   "cell_type": "code",
   "execution_count": 61,
   "metadata": {},
   "outputs": [
    {
     "name": "stdout",
     "output_type": "stream",
     "text": [
      "The battery size is 220\n"
     ]
    }
   ],
   "source": [
    "ecar1.battery.getBattery()"
   ]
  },
  {
   "cell_type": "code",
   "execution_count": null,
   "metadata": {},
   "outputs": [],
   "source": []
  }
 ],
 "metadata": {
  "kernelspec": {
   "display_name": "Python 3",
   "language": "python",
   "name": "python3"
  },
  "language_info": {
   "codemirror_mode": {
    "name": "ipython",
    "version": 3
   },
   "file_extension": ".py",
   "mimetype": "text/x-python",
   "name": "python",
   "nbconvert_exporter": "python",
   "pygments_lexer": "ipython3",
   "version": "3.7.4"
  }
 },
 "nbformat": 4,
 "nbformat_minor": 2
}
