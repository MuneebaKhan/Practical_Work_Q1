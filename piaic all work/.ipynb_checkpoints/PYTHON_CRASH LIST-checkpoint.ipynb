{
 "cells": [
  {
   "cell_type": "raw",
   "metadata": {},
   "source": [
    "Names: Store the names of a few of your friends in a list called names. Print\n",
    "each person’s name by accessing each element in the list, one at a time."
   ]
  },
  {
   "cell_type": "code",
   "execution_count": 4,
   "metadata": {},
   "outputs": [
    {
     "name": "stdout",
     "output_type": "stream",
     "text": [
      "samra\n",
      "zarmina\n",
      "zaid\n"
     ]
    }
   ],
   "source": [
    "name = ['samra','zarmina','zaid']\n",
    "print(name[0])\n",
    "print(name[1])\n",
    "print(name[2])"
   ]
  },
  {
   "cell_type": "raw",
   "metadata": {},
   "source": [
    "Start with the list you used in Exercise 3-1, but instead of just printing each person’s name, print a message to them. \n",
    "The text of each message should be the same, but each message should be personalized with the person’s name."
   ]
  },
  {
   "cell_type": "code",
   "execution_count": 18,
   "metadata": {},
   "outputs": [
    {
     "name": "stdout",
     "output_type": "stream",
     "text": [
      "Hello samra!\n",
      "Hello zarmina!\n",
      "Hello zaid!\n"
     ]
    }
   ],
   "source": [
    "name = ['samra','zarmina','zaid']\n",
    "print(\"Hello \"  +str(name[0])+\"!\")\n",
    "print(\"Hello \"  +str(name[1])+\"!\")\n",
    "print(\"Hello \"  +str(name[2]+\"!\"))"
   ]
  },
  {
   "cell_type": "raw",
   "metadata": {},
   "source": [
    "If you could invite anyone, living or deceased, to dinner, who would you invite? Make a list that includes at least \n",
    "three people you’d like to invite to dinner. Then use your list to print a message to each person,inviting them to dinner"
   ]
  },
  {
   "cell_type": "code",
   "execution_count": 31,
   "metadata": {},
   "outputs": [
    {
     "name": "stdout",
     "output_type": "stream",
     "text": [
      "* Samra Please come to dinner\n",
      "* Safia Please come to dinner\n",
      "* Mariyam Please come to dinner\n"
     ]
    }
   ],
   "source": [
    "guest = ['samra','safia','Mariyam']\n",
    "name = guest[0].title()\n",
    "print(\"* \"+str(name)+\" Please come to dinner\")\n",
    "name = guest[1].title()\n",
    "print(f'* {name} Please come to dinner')\n",
    "name = guest[2].title()\n",
    "print(\"* \"+str(name)+\" Please come to dinner\")"
   ]
  },
  {
   "cell_type": "raw",
   "metadata": {},
   "source": [
    "You just heard that one of your guests can’t make the dinner, so you need to send out a new set of invitations. \n",
    "You’ll have to think of someone else to invite.\n",
    "Start with your program from Exercise 3-4. Add a print statement at the end of your program stating \n",
    "the name of the guest who can’t make it.\n",
    "Modify your list, replacing the name of the guest who can’t make it with the name of the new person you are inviting.\n",
    "Print a second set of invitation messages, one for each person who is still in your list."
   ]
  },
  {
   "cell_type": "code",
   "execution_count": 1,
   "metadata": {},
   "outputs": [
    {
     "name": "stdout",
     "output_type": "stream",
     "text": [
      "['samra', 'zarmina', 'zaid']\n",
      "Invite those friend youre available in list: zarmina\n",
      "zarmina available in list\n",
      "Invite those friend youre available in list: zaid\n",
      "zaid available in list\n",
      "Invite those friend youre available in list: muniba\n",
      "muniba are not available in list\n"
     ]
    }
   ],
   "source": [
    "friends = ['samra','zarmina','zaid']\n",
    "active = True\n",
    "print(friends)\n",
    "while active:\n",
    "    \n",
    "    party =  input(\"Invite those friend youre available in list: \")\n",
    "    if party not in friends:\n",
    "        print(f\"{party} are not available in list\" )\n",
    "        active = False\n",
    "    else:\n",
    "        print(f\"{party} available in list\"  )\n",
    "        "
   ]
  },
  {
   "cell_type": "markdown",
   "metadata": {},
   "source": [
    "# USER INPUT"
   ]
  },
  {
   "cell_type": "raw",
   "metadata": {},
   "source": [
    "Rental Car: Write a program that asks the user what kind of rental car they\n",
    "would like. Print a message about that car, such as “Let me see if I can find you\n",
    "a Subaru\"."
   ]
  },
  {
   "cell_type": "code",
   "execution_count": 6,
   "metadata": {},
   "outputs": [
    {
     "name": "stdout",
     "output_type": "stream",
     "text": [
      "What kind of rental car they would like: Subaru\n",
      "Let me see if I can find you a Subaru\n"
     ]
    }
   ],
   "source": [
    "car = input(\"What kind of rental car they would like: \")\n",
    "print(f\"Let me see if I can find you a \"+str(car.title()) )"
   ]
  },
  {
   "cell_type": "raw",
   "metadata": {},
   "source": [
    "Restaurant Seating: Write a program that asks the user how many people\n",
    "are in their dinner group. If the answer is more than eight, print a message saying they’ll have to wait for a table. \n",
    "Otherwise, report that their table is ready"
   ]
  },
  {
   "cell_type": "code",
   "execution_count": 10,
   "metadata": {},
   "outputs": [
    {
     "name": "stdout",
     "output_type": "stream",
     "text": [
      "How many people are in their dinner group: 6\n",
      "report that their table is ready\n"
     ]
    }
   ],
   "source": [
    "party_size = int(input(\"How many people are in their dinner group: \"))\n",
    "if party_size > 8:\n",
    "    print( \"Saying they’ll have to wait for a table.\")\n",
    "else:\n",
    "    print(\"report that their table is ready\")"
   ]
  },
  {
   "cell_type": "raw",
   "metadata": {},
   "source": [
    "Multiples of Ten: Ask the user for a number, and then report whether the\n",
    "number is a multiple of 10 or not."
   ]
  },
  {
   "cell_type": "code",
   "execution_count": 1,
   "metadata": {},
   "outputs": [
    {
     "name": "stdout",
     "output_type": "stream",
     "text": [
      "Enter number: 60\n",
      "60 number is multiple of 10\n"
     ]
    }
   ],
   "source": [
    "num = int(input(\"Enter number: \"))\n",
    "if num % 10 == 0:\n",
    "    print(str(num)+ \" number is multiple of 10\")\n",
    "else:\n",
    "    print(str(num)+ \" number is not multiple of 10\")\n",
    "    \n"
   ]
  },
  {
   "cell_type": "markdown",
   "metadata": {},
   "source": [
    "# WHILE LOOP"
   ]
  },
  {
   "cell_type": "code",
   "execution_count": 4,
   "metadata": {},
   "outputs": [
    {
     "name": "stdout",
     "output_type": "stream",
     "text": [
      "\n",
      "Tell me something, and I will repeat it back to you:\n",
      "Enter 'quit' to end the program. hello everyone\n",
      "hello everyone\n",
      "\n",
      "Tell me something, and I will repeat it back to you:\n",
      "Enter 'quit' to end the program. hellllo\n",
      "hellllo\n",
      "\n",
      "Tell me something, and I will repeat it back to you:\n",
      "Enter 'quit' to end the program. quit\n",
      "quit\n"
     ]
    }
   ],
   "source": [
    "prompt = \"\\nTell me something, and I will repeat it back to you:\"\n",
    "prompt += \"\\nEnter 'quit' to end the program. \"\n",
    "message = \"\"\n",
    "while message != 'quit':\n",
    "    message = input(prompt)\n",
    "    print (message)       "
   ]
  },
  {
   "cell_type": "code",
   "execution_count": 1,
   "metadata": {},
   "outputs": [
    {
     "name": "stdout",
     "output_type": "stream",
     "text": [
      "\n",
      "Tell me something else: \n",
      "Enter 'quite' to end the program hello everyone\n",
      "hello everyone\n",
      "\n",
      "Tell me something else: \n",
      "Enter 'quite' to end the program zaid\n",
      "zaid\n",
      "\n",
      "Tell me something else: \n",
      "Enter 'quite' to end the program zarmina\n",
      "zarmina\n",
      "\n",
      "Tell me something else: \n",
      "Enter 'quite' to end the program quite\n"
     ]
    }
   ],
   "source": [
    "prompt = \"\\nTell me something else: \"\n",
    "prompt += \"\\nEnter 'quite' to end the program \"\n",
    "flag = True\n",
    "while flag:\n",
    "    message = input(prompt)\n",
    "    if message == 'quite':\n",
    "        flag = False\n",
    "    else:\n",
    "        print(message)"
   ]
  },
  {
   "cell_type": "code",
   "execution_count": 5,
   "metadata": {},
   "outputs": [
    {
     "name": "stdout",
     "output_type": "stream",
     "text": [
      "1\n",
      "2\n",
      "3\n",
      "4\n",
      "6\n",
      "7\n",
      "8\n",
      "9\n",
      "10\n"
     ]
    }
   ],
   "source": [
    "num = 0\n",
    "while num < 10:\n",
    "    num = num + 1\n",
    "    if num == 5:\n",
    "        continue    \n",
    "    print(num)   "
   ]
  },
  {
   "cell_type": "code",
   "execution_count": 3,
   "metadata": {},
   "outputs": [
    {
     "name": "stdout",
     "output_type": "stream",
     "text": [
      "1\n",
      "3\n",
      "5\n",
      "7\n",
      "9\n"
     ]
    }
   ],
   "source": [
    "num = 0\n",
    "while num < 10:\n",
    "    num = num + 1\n",
    "    if num % 2 == 0:\n",
    "        continue\n",
    "    print(num)"
   ]
  },
  {
   "cell_type": "code",
   "execution_count": 4,
   "metadata": {},
   "outputs": [
    {
     "name": "stdout",
     "output_type": "stream",
     "text": [
      "2\n",
      "3\n",
      "4\n",
      "5\n"
     ]
    }
   ],
   "source": [
    "x = 1\n",
    "while x < 5:\n",
    "    x = x + 1\n",
    "    print(x)"
   ]
  },
  {
   "cell_type": "raw",
   "metadata": {},
   "source": [
    "Pizza Toppings: Write a loop that prompts the user to enter a series of\n",
    "pizza toppings until they enter a 'quit' value. As they enter each topping,\n",
    "print a message saying you’ll add that topping to their pizza."
   ]
  },
  {
   "cell_type": "code",
   "execution_count": 2,
   "metadata": {},
   "outputs": [
    {
     "name": "stdout",
     "output_type": "stream",
     "text": [
      "Enter a series of pizza toppings:\n",
      "until they enter a 'quit' value. chesse\n",
      "Ill add chesseto their pizza.\n",
      "Enter a series of pizza toppings:\n",
      "until they enter a 'quit' value. peproni\n",
      "Ill add pepronito their pizza.\n",
      "Enter a series of pizza toppings:\n",
      "until they enter a 'quit' value. quite\n"
     ]
    }
   ],
   "source": [
    "flag = True\n",
    "while flag:\n",
    "    message = input(\"Enter a series of pizza toppings:\"\"\\nuntil they enter a 'quit' value. \")\n",
    "    if message == \"quite\":\n",
    "        flag = False\n",
    "    else:\n",
    "        print(\"Ill add \" + message +  \"to their pizza.\")"
   ]
  },
  {
   "cell_type": "raw",
   "metadata": {},
   "source": [
    "Movie Tickets: A movie theater charges different ticket prices depending on\n",
    "a person’s age. If a person is under the age of 3, the ticket is free; if they are\n",
    "between 3 and 12, the ticket is $10; and if they are over age 12, the ticket is\n",
    "$15. Write a loop in which you ask users their age, and then tell them the cost\n",
    "of their movie ticket."
   ]
  },
  {
   "cell_type": "code",
   "execution_count": 5,
   "metadata": {},
   "outputs": [
    {
     "name": "stdout",
     "output_type": "stream",
     "text": [
      "Enter user age: 2\n",
      "The ticket is free\n",
      "Enter user age: 12\n",
      "The ticket is $10\n",
      "Enter user age: 18\n",
      "The ticket is $15\n",
      "Enter user age: quite\n"
     ]
    }
   ],
   "source": [
    "Flag = True\n",
    "while Flag:\n",
    "    age = input(\"Enter user age: \")\n",
    "    if age == \"quite\":\n",
    "        break\n",
    "    age = int(age)\n",
    "    if age < 3:\n",
    "        print(\"The ticket is free\")\n",
    "    elif age < 13:\n",
    "        print(\"The ticket is $10\")\n",
    "    else:\n",
    "        print(\"The ticket is $15\")\n",
    "        \n"
   ]
  },
  {
   "cell_type": "raw",
   "metadata": {},
   "source": []
  },
  {
   "cell_type": "code",
   "execution_count": 3,
   "metadata": {},
   "outputs": [
    {
     "name": "stdout",
     "output_type": "stream",
     "text": [
      "Verification user\n",
      "Candace\n",
      "Brain\n",
      "Alice\n",
      "\n",
      "Confirmed users\n",
      "Candace\n",
      "Brain\n",
      "Alice\n"
     ]
    }
   ],
   "source": [
    "unconfirmed_user = ['alice','brain','candace']\n",
    "confirmed_user = []\n",
    "print(\"Verification user\")\n",
    "while unconfirmed_user:\n",
    "    current_user = unconfirmed_user.pop()\n",
    "    print(current_user.title())\n",
    "    confirmed_user.append(current_user)\n",
    "print()\n",
    "print(\"Confirmed users\")\n",
    "for current_users in confirmed_user:\n",
    "    print(current_users.title())"
   ]
  },
  {
   "cell_type": "code",
   "execution_count": 11,
   "metadata": {},
   "outputs": [
    {
     "name": "stdout",
     "output_type": "stream",
     "text": [
      "['dog', 'cat', 'dog', 'goldfish', 'cat', 'rabbit', 'cat']\n",
      "['dog', 'dog', 'goldfish', 'rabbit']\n"
     ]
    }
   ],
   "source": [
    "pets = ['dog', 'cat', 'dog', 'goldfish', 'cat', 'rabbit', 'cat']\n",
    "print(pets)\n",
    "while 'cat' in pets:\n",
    "    pets.remove('cat')\n",
    "print(pets)\n"
   ]
  },
  {
   "cell_type": "code",
   "execution_count": 22,
   "metadata": {},
   "outputs": [
    {
     "name": "stdout",
     "output_type": "stream",
     "text": [
      "['dog', 'cat', 'dog', 'goldfish', 'cat', 'rabbit', 'cat']\n",
      "dog\n",
      "dog\n",
      "goldfish\n",
      "rabbit\n"
     ]
    }
   ],
   "source": [
    "pets = ['dog', 'cat', 'dog', 'goldfish', 'cat', 'rabbit', 'cat']\n",
    "print(pets)\n",
    "for i in pets:\n",
    "    if i == 'cat':\n",
    "        pets.remove('cat')\n",
    "for x in pets:\n",
    "    print(x)"
   ]
  },
  {
   "cell_type": "code",
   "execution_count": 30,
   "metadata": {},
   "outputs": [
    {
     "name": "stdout",
     "output_type": "stream",
     "text": [
      "['dog', 'cat', 'dog', 'goldfish', 'cat', 'rabbit', 'cat']\n",
      "\n",
      "After removing the cat update list\n",
      "* dog\n",
      "* dog\n",
      "* goldfish\n",
      "* rabbit\n"
     ]
    }
   ],
   "source": [
    "pets = ['dog', 'cat', 'dog', 'goldfish', 'cat', 'rabbit', 'cat']\n",
    "print(pets)\n",
    "print()\n",
    "while 'cat' in pets:\n",
    "    pets.remove('cat')\n",
    "print(\"After removing the cat update list\")\n",
    "for pet in pets:\n",
    "    print(\"*\",pet )    "
   ]
  },
  {
   "cell_type": "code",
   "execution_count": null,
   "metadata": {},
   "outputs": [],
   "source": [
    "responces = {}\n",
    "active = True\n",
    "while active:\n",
    "    name = input(\"Enter name: \")\n",
    "    response = input(\"Which mountain would you like to climb someday? \")\n",
    "    responces[name] = response\n",
    "    repeat = input(\"Would you like to let another person respond? (yes/ no) \")\n",
    "    if repeat == 'no':\n",
    "        active = False\n",
    "print(\"\\n--- Poll Results ---\")\n",
    "for name, response in responces.items():\n",
    "    print(name + \" would like to climb \" + response + \".\")"
   ]
  },
  {
   "cell_type": "code",
   "execution_count": null,
   "metadata": {},
   "outputs": [],
   "source": [
    "prompt = \"\\nTell me something, and I will repeat it back to you:\"\n",
    "prompt += \"\\nEnter 'quit' to end the program. \"\n",
    "message = \"\"\n",
    "while message != 'quit':\n",
    "    message = input(prompt)\n",
    "    print(message)"
   ]
  },
  {
   "cell_type": "code",
   "execution_count": null,
   "metadata": {},
   "outputs": [],
   "source": []
  }
 ],
 "metadata": {
  "kernelspec": {
   "display_name": "Python 3",
   "language": "python",
   "name": "python3"
  },
  "language_info": {
   "codemirror_mode": {
    "name": "ipython",
    "version": 3
   },
   "file_extension": ".py",
   "mimetype": "text/x-python",
   "name": "python",
   "nbconvert_exporter": "python",
   "pygments_lexer": "ipython3",
   "version": "3.7.4"
  }
 },
 "nbformat": 4,
 "nbformat_minor": 2
}
