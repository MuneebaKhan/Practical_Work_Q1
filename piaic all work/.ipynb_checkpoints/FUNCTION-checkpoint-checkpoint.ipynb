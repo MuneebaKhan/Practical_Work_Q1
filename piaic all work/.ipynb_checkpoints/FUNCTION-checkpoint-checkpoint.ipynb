{
 "cells": [
  {
   "cell_type": "code",
   "execution_count": 1,
   "metadata": {},
   "outputs": [],
   "source": [
    "# We used function for reusability of code"
   ]
  },
  {
   "cell_type": "code",
   "execution_count": null,
   "metadata": {},
   "outputs": [],
   "source": [
    "a = 12\n",
    "b = 34\n",
    "c = a+b\n",
    "print(c)"
   ]
  },
  {
   "cell_type": "code",
   "execution_count": 2,
   "metadata": {},
   "outputs": [],
   "source": [
    "#Function make\n",
    "def add_two_numbers():\n",
    "    a = 12\n",
    "    b = 34\n",
    "    c = a+b\n",
    "    print(c)\n",
    "  \n",
    "    "
   ]
  },
  {
   "cell_type": "code",
   "execution_count": 3,
   "metadata": {},
   "outputs": [
    {
     "name": "stdout",
     "output_type": "stream",
     "text": [
      "46\n"
     ]
    }
   ],
   "source": [
    "add_two_numbers()"
   ]
  },
  {
   "cell_type": "code",
   "execution_count": 4,
   "metadata": {},
   "outputs": [],
   "source": [
    "#Function definition\n",
    "def funcName():\n",
    "    print(\"I am Muniba\")"
   ]
  },
  {
   "cell_type": "code",
   "execution_count": 5,
   "metadata": {},
   "outputs": [
    {
     "name": "stdout",
     "output_type": "stream",
     "text": [
      "I am Muniba\n"
     ]
    }
   ],
   "source": [
    "#Function call\n",
    "funcName()"
   ]
  },
  {
   "cell_type": "code",
   "execution_count": 6,
   "metadata": {},
   "outputs": [],
   "source": [
    "#Function ke inside jo define kia hai use hm kehete hain parameter of function\n",
    "def greeting(name):\n",
    "    ''' It is paratmeterized function '''\n",
    "    print(f'you are welcome {name}')"
   ]
  },
  {
   "cell_type": "code",
   "execution_count": 7,
   "metadata": {},
   "outputs": [
    {
     "name": "stdout",
     "output_type": "stream",
     "text": [
      "you are welcome Muniba\n"
     ]
    }
   ],
   "source": [
    "#Fuction call karne ke liye zarori parameter ki value mai ek argument pas karna hoga:\n",
    "greeting(\"Muniba\") # Argument"
   ]
  },
  {
   "cell_type": "code",
   "execution_count": 14,
   "metadata": {},
   "outputs": [],
   "source": [
    "# Define a func with name sum it has two parameters\n",
    "# a and b\n",
    "# In body these two parameter will be added and stored in c\n",
    "# Print the value in the fuction \n",
    "# calling\n",
    "# Call the function\n"
   ]
  },
  {
   "cell_type": "code",
   "execution_count": 3,
   "metadata": {},
   "outputs": [],
   "source": [
    "def sum(a,b):\n",
    "    c = a + b\n",
    "    print(f'The sum of a and b = {c}')\n",
    "    "
   ]
  },
  {
   "cell_type": "code",
   "execution_count": 4,
   "metadata": {},
   "outputs": [
    {
     "name": "stdout",
     "output_type": "stream",
     "text": [
      "The sum of a and b = 800\n"
     ]
    }
   ],
   "source": [
    "sum(100,700)"
   ]
  },
  {
   "cell_type": "code",
   "execution_count": 31,
   "metadata": {},
   "outputs": [],
   "source": [
    "def giveMeFullName(FirstName,MiddleName,LastName):\n",
    "    #FullName = FristName+MiddleName+LastName\n",
    "    FullName = f\"{FirstName} {MiddleName} {LastName}\"\n",
    "    print(FullName)"
   ]
  },
  {
   "cell_type": "code",
   "execution_count": 32,
   "metadata": {},
   "outputs": [
    {
     "name": "stdout",
     "output_type": "stream",
     "text": [
      "Muniba Javaid Khan\n"
     ]
    }
   ],
   "source": [
    "#Positional argument apni position pr ja kar place hojate hain\n",
    "giveMeFullName('Muniba','Javaid','Khan') # positional argument"
   ]
  },
  {
   "cell_type": "code",
   "execution_count": 33,
   "metadata": {},
   "outputs": [
    {
     "name": "stdout",
     "output_type": "stream",
     "text": [
      "Miss Fatima Jinnah\n"
     ]
    }
   ],
   "source": [
    "giveMeFullName('Miss','Fatima','Jinnah')"
   ]
  },
  {
   "cell_type": "code",
   "execution_count": 35,
   "metadata": {},
   "outputs": [
    {
     "name": "stdout",
     "output_type": "stream",
     "text": [
      "Muniba Javaid Khan\n"
     ]
    }
   ],
   "source": [
    "#Agr Hm koi ake peeche argument pas kar rehe ge to key dene se hamare argument age peheeche hone se bach jaye ge\n",
    "#Key word argument\n",
    "giveMeFullName(MiddleName = 'Javaid',FirstName = 'Muniba',LastName = 'Khan')"
   ]
  },
  {
   "cell_type": "code",
   "execution_count": 43,
   "metadata": {},
   "outputs": [],
   "source": [
    "def giveMeFullName(FirstName,MiddleName,LastName):\n",
    "    #FullName = FristName+MiddleName+LastName\n",
    "    FullName = f\"{FirstName} {MiddleName} {LastName}\"\n",
    "    print(FullName)"
   ]
  },
  {
   "cell_type": "code",
   "execution_count": 44,
   "metadata": {},
   "outputs": [
    {
     "ename": "TypeError",
     "evalue": "giveMeFullName() missing 1 required positional argument: 'LastName'",
     "output_type": "error",
     "traceback": [
      "\u001b[1;31m---------------------------------------------------------------------------\u001b[0m",
      "\u001b[1;31mTypeError\u001b[0m                                 Traceback (most recent call last)",
      "\u001b[1;32m<ipython-input-44-b46b978734f5>\u001b[0m in \u001b[0;36m<module>\u001b[1;34m\u001b[0m\n\u001b[1;32m----> 1\u001b[1;33m \u001b[0mgiveMeFullName\u001b[0m\u001b[1;33m(\u001b[0m\u001b[1;34m\"Muniba\"\u001b[0m\u001b[1;33m,\u001b[0m\u001b[1;34m\"Javaid\"\u001b[0m\u001b[1;33m)\u001b[0m\u001b[1;33m\u001b[0m\u001b[1;33m\u001b[0m\u001b[0m\n\u001b[0m",
      "\u001b[1;31mTypeError\u001b[0m: giveMeFullName() missing 1 required positional argument: 'LastName'"
     ]
    }
   ],
   "source": [
    "#Agr hm ek bhi argument nhi dale ge to error aye ga\n",
    "giveMeFullName(\"Muniba\",\"Javaid\")"
   ]
  },
  {
   "cell_type": "code",
   "execution_count": 47,
   "metadata": {},
   "outputs": [],
   "source": [
    "#Agr hm chahte ke agr hm koi argument nhi dale to waha error na aye to hm = kar ke space chor de ya nil likh de\n",
    "def giveMeFullName(FirstName = \"\",MiddleName = \"\",LastName =\"\"):\n",
    "    #FullName = FristName+MiddleName+LastName\n",
    "    FullName = f\"{FirstName} {MiddleName} {LastName}\"\n",
    "    print(FullName)"
   ]
  },
  {
   "cell_type": "code",
   "execution_count": 49,
   "metadata": {},
   "outputs": [
    {
     "name": "stdout",
     "output_type": "stream",
     "text": [
      "Muniba Javaid \n"
     ]
    }
   ],
   "source": [
    "giveMeFullName(\"Muniba\",\"Javaid\")"
   ]
  },
  {
   "cell_type": "markdown",
   "metadata": {},
   "source": [
    "TWO TYPES OF FUNCTION\n",
    "GLOBAL FUNCTION(In the function or inside the function acceable)\n",
    "LOCAL FUNCTION(Only with in function call)"
   ]
  },
  {
   "cell_type": "code",
   "execution_count": 5,
   "metadata": {},
   "outputs": [],
   "source": [
    "def sb(u,v):\n",
    "    w = u - v #Local variable(Inside function hm call karwa sakte hain function ke \n",
    "    #bhr call nhi karwa sakte)\n",
    "    print(w)\n",
    "    return w, \"Hello Subtract\"\n",
    "#Function ko global karne ke liye user kar ge return"
   ]
  },
  {
   "cell_type": "code",
   "execution_count": 6,
   "metadata": {},
   "outputs": [
    {
     "name": "stdout",
     "output_type": "stream",
     "text": [
      "-100\n",
      "(-100, 'Hello Subtract', -100, 'Hello Subtract')\n"
     ]
    }
   ],
   "source": [
    "# return ke bd function mai jana impossible result ke bd hm jo bhi line likhe ge wo execute nhi hogi.\n",
    "#Function ko global karne ke liye user kar ge return\n",
    "#Ek se zyada value return karwayi ja sakti hain\n",
    "#Ans hmare pas tuple mai arha hai\n",
    "result = sb(100,200)\n",
    "print(result * 2)"
   ]
  },
  {
   "cell_type": "code",
   "execution_count": 9,
   "metadata": {},
   "outputs": [
    {
     "name": "stdout",
     "output_type": "stream",
     "text": [
      "11  i m a local global\n"
     ]
    }
   ],
   "source": [
    "#Function mai rehte hue global bnana\n",
    "def Sub(u,v):\n",
    "    global q\n",
    "    q = \" i m a local global\"\n",
    "    w = u - v\n",
    "    return w\n",
    "print(Sub(15,4),q)"
   ]
  },
  {
   "cell_type": "code",
   "execution_count": 10,
   "metadata": {},
   "outputs": [],
   "source": [
    "#Function bnane hain homework"
   ]
  },
  {
   "cell_type": "code",
   "execution_count": 1,
   "metadata": {},
   "outputs": [
    {
     "ename": "SyntaxError",
     "evalue": "unexpected EOF while parsing (<ipython-input-1-8f1a04e133af>, line 1)",
     "output_type": "error",
     "traceback": [
      "\u001b[1;36m  File \u001b[1;32m\"<ipython-input-1-8f1a04e133af>\"\u001b[1;36m, line \u001b[1;32m1\u001b[0m\n\u001b[1;33m    age = int(input(\"Enter your age: \")\u001b[0m\n\u001b[1;37m                                       ^\u001b[0m\n\u001b[1;31mSyntaxError\u001b[0m\u001b[1;31m:\u001b[0m unexpected EOF while parsing\n"
     ]
    }
   ],
   "source": []
  },
  {
   "cell_type": "markdown",
   "metadata": {},
   "source": [
    "# KEY WORK ARGUMENT"
   ]
  },
  {
   "cell_type": "code",
   "execution_count": 1,
   "metadata": {},
   "outputs": [],
   "source": [
    "# Function Mai argument phele hmne position argument parha tha ab hm key arrgument parhe ge\n",
    "def car(model,year):\n",
    "    print(model,year)"
   ]
  },
  {
   "cell_type": "code",
   "execution_count": 2,
   "metadata": {},
   "outputs": [
    {
     "name": "stdout",
     "output_type": "stream",
     "text": [
      "corolla 2019\n"
     ]
    }
   ],
   "source": [
    "car('corolla',2019)"
   ]
  },
  {
   "cell_type": "code",
   "execution_count": 3,
   "metadata": {},
   "outputs": [
    {
     "name": "stdout",
     "output_type": "stream",
     "text": [
      "2019 corolla\n"
     ]
    }
   ],
   "source": [
    "car(2019,'corolla')"
   ]
  },
  {
   "cell_type": "code",
   "execution_count": 9,
   "metadata": {},
   "outputs": [
    {
     "name": "stdout",
     "output_type": "stream",
     "text": [
      "corolla 2019\n"
     ]
    }
   ],
   "source": [
    "#is mai hm parameter ke sth key word ke sth dede tke agr age pecche bhi hun to sahi jaga chala jaye \n",
    "car(year = 2019,model = 'corolla')"
   ]
  },
  {
   "cell_type": "code",
   "execution_count": 13,
   "metadata": {},
   "outputs": [],
   "source": [
    "#key word argument\n",
    "#Function ke andar local variable hote hain\n",
    "#function ke local variable ko function ke bhr call karne ke liye lazmi hai ke hm variable ko global kare\n",
    "def name(fname,lname):\n",
    "    print(f'first name:{fname}')\n",
    "    print(f'last name:{lname}')\n"
   ]
  },
  {
   "cell_type": "code",
   "execution_count": 14,
   "metadata": {},
   "outputs": [
    {
     "name": "stdout",
     "output_type": "stream",
     "text": [
      "first name:Muniba\n",
      "last name:Javaid\n"
     ]
    }
   ],
   "source": [
    "name(fname = 'Muniba',lname = 'Javaid')"
   ]
  },
  {
   "cell_type": "code",
   "execution_count": 15,
   "metadata": {},
   "outputs": [
    {
     "name": "stdout",
     "output_type": "stream",
     "text": [
      "first name:Muniba\n",
      "last name:Javaid\n"
     ]
    }
   ],
   "source": [
    "name(lname = 'Javaid',fname = 'Muniba')"
   ]
  },
  {
   "cell_type": "code",
   "execution_count": 29,
   "metadata": {},
   "outputs": [],
   "source": [
    "def name(fname,lname,mname):\n",
    "    print(f'first name:{fname}')\n",
    "    print(f'mname name:{mname}')\n",
    "    print(f'last name:{lname}')"
   ]
  },
  {
   "cell_type": "code",
   "execution_count": 30,
   "metadata": {},
   "outputs": [
    {
     "ename": "SyntaxError",
     "evalue": "positional argument follows keyword argument (<ipython-input-30-ab3d7b543156>, line 3)",
     "output_type": "error",
     "traceback": [
      "\u001b[1;36m  File \u001b[1;32m\"<ipython-input-30-ab3d7b543156>\"\u001b[1;36m, line \u001b[1;32m3\u001b[0m\n\u001b[1;33m    name('John',mname = 'walten','smith')\u001b[0m\n\u001b[1;37m                                ^\u001b[0m\n\u001b[1;31mSyntaxError\u001b[0m\u001b[1;31m:\u001b[0m positional argument follows keyword argument\n"
     ]
    }
   ],
   "source": [
    "#jis ke sth key word nhi use kar rehe to wo position argument hote hain\n",
    "#positional argument follows keyword argument\n",
    "name('John',mname = 'walten','smith')"
   ]
  },
  {
   "cell_type": "code",
   "execution_count": 31,
   "metadata": {},
   "outputs": [
    {
     "name": "stdout",
     "output_type": "stream",
     "text": [
      "first name:John\n",
      "mname name:walten\n",
      "last name:smith\n"
     ]
    }
   ],
   "source": [
    "#This error mean ke key arrgument postion argument ke 'beech' mai nhi ana chahiye jis kisi ka \n",
    "#bhi keyword argument ke sth karna hai to 'last' mai karna hai\n",
    "name('John','smith', mname = 'walten')"
   ]
  },
  {
   "cell_type": "markdown",
   "metadata": {},
   "source": [
    "# Arbitary Number of Arguments"
   ]
  },
  {
   "cell_type": "code",
   "execution_count": 33,
   "metadata": {},
   "outputs": [],
   "source": [
    "def pizza(size,flavour,*toppings):\n",
    "    print(size,flavour)\n",
    "    print(toppings)\n"
   ]
  },
  {
   "cell_type": "code",
   "execution_count": 34,
   "metadata": {},
   "outputs": [
    {
     "name": "stdout",
     "output_type": "stream",
     "text": [
      "large chicken tikka\n",
      "('extra chessse', 'olives')\n"
     ]
    }
   ],
   "source": [
    "#* wale koo us ne tupple ki form mai print karwa diya hai\n",
    "#Arbitary function ese hote hain ke jis mai hme idea nhi hota user kitni values dal sakta hai usko hm function mai \n",
    "#* mai parameter define kardete hai (ab user ek value dale ya ek se zyada value dale recieve karsakta hai)\n",
    "pizza('large','chicken tikka','extra chessse','olives')"
   ]
  },
  {
   "cell_type": "code",
   "execution_count": 35,
   "metadata": {},
   "outputs": [
    {
     "name": "stdout",
     "output_type": "stream",
     "text": [
      "large chicken tikka\n",
      "('extra chessse',)\n"
     ]
    }
   ],
   "source": [
    "#,means more than one arguments asakte hain\n",
    "pizza('large','chicken tikka','extra chessse')"
   ]
  },
  {
   "cell_type": "code",
   "execution_count": 36,
   "metadata": {},
   "outputs": [],
   "source": [
    "#** keyword argument mange ga:\n",
    "#or return dictionary ki form mai kar rha hai    \n",
    "def car(make,model, **specs):\n",
    "    print(make,model)\n",
    "    print(specs)"
   ]
  },
  {
   "cell_type": "code",
   "execution_count": 37,
   "metadata": {},
   "outputs": [
    {
     "name": "stdout",
     "output_type": "stream",
     "text": [
      "toyota prius\n",
      "{'transmission': 'automatic', 'power': 'yes'}\n"
     ]
    }
   ],
   "source": [
    "car('toyota','prius',transmission = 'automatic',power = 'yes')"
   ]
  },
  {
   "cell_type": "markdown",
   "metadata": {},
   "source": [
    "# FUNCTION AS A VARIABLE"
   ]
  },
  {
   "cell_type": "code",
   "execution_count": 62,
   "metadata": {},
   "outputs": [],
   "source": [
    "def add(a, b):\n",
    "    c = a + b\n",
    "    return c"
   ]
  },
  {
   "cell_type": "code",
   "execution_count": 63,
   "metadata": {},
   "outputs": [],
   "source": [
    "def sub(a, b):\n",
    "    c = a - b\n",
    "    return c"
   ]
  },
  {
   "cell_type": "code",
   "execution_count": 64,
   "metadata": {},
   "outputs": [
    {
     "name": "stdout",
     "output_type": "stream",
     "text": [
      "7\n"
     ]
    }
   ],
   "source": [
    "result = add(2,2) + sub(6,3)\n",
    "print(result)"
   ]
  },
  {
   "cell_type": "code",
   "execution_count": 65,
   "metadata": {},
   "outputs": [
    {
     "ename": "TypeError",
     "evalue": "unsupported operand type(s) for -: 'str' and 'str'",
     "output_type": "error",
     "traceback": [
      "\u001b[1;31m---------------------------------------------------------------------------\u001b[0m",
      "\u001b[1;31mTypeError\u001b[0m                                 Traceback (most recent call last)",
      "\u001b[1;32m<ipython-input-65-44fd449c3411>\u001b[0m in \u001b[0;36m<module>\u001b[1;34m\u001b[0m\n\u001b[1;32m----> 1\u001b[1;33m \u001b[0mresult\u001b[0m \u001b[1;33m=\u001b[0m \u001b[0madd\u001b[0m\u001b[1;33m(\u001b[0m\u001b[1;34m'nasir'\u001b[0m\u001b[1;33m,\u001b[0m\u001b[1;34m'hussain'\u001b[0m\u001b[1;33m)\u001b[0m \u001b[1;33m+\u001b[0m \u001b[0msub\u001b[0m\u001b[1;33m(\u001b[0m\u001b[1;34m'ali'\u001b[0m\u001b[1;33m,\u001b[0m\u001b[1;34m'hussain'\u001b[0m\u001b[1;33m)\u001b[0m\u001b[1;33m\u001b[0m\u001b[1;33m\u001b[0m\u001b[0m\n\u001b[0m\u001b[0;32m      2\u001b[0m \u001b[0mprint\u001b[0m\u001b[1;33m(\u001b[0m\u001b[0mresult\u001b[0m\u001b[1;33m)\u001b[0m\u001b[1;33m\u001b[0m\u001b[1;33m\u001b[0m\u001b[0m\n",
      "\u001b[1;32m<ipython-input-63-e116c23ead97>\u001b[0m in \u001b[0;36msub\u001b[1;34m(a, b)\u001b[0m\n\u001b[0;32m      1\u001b[0m \u001b[1;32mdef\u001b[0m \u001b[0msub\u001b[0m\u001b[1;33m(\u001b[0m\u001b[0ma\u001b[0m\u001b[1;33m,\u001b[0m \u001b[0mb\u001b[0m\u001b[1;33m)\u001b[0m\u001b[1;33m:\u001b[0m\u001b[1;33m\u001b[0m\u001b[1;33m\u001b[0m\u001b[0m\n\u001b[1;32m----> 2\u001b[1;33m     \u001b[0mc\u001b[0m \u001b[1;33m=\u001b[0m \u001b[0ma\u001b[0m \u001b[1;33m-\u001b[0m \u001b[0mb\u001b[0m\u001b[1;33m\u001b[0m\u001b[1;33m\u001b[0m\u001b[0m\n\u001b[0m\u001b[0;32m      3\u001b[0m     \u001b[1;32mreturn\u001b[0m \u001b[0mc\u001b[0m\u001b[1;33m\u001b[0m\u001b[1;33m\u001b[0m\u001b[0m\n",
      "\u001b[1;31mTypeError\u001b[0m: unsupported operand type(s) for -: 'str' and 'str'"
     ]
    }
   ],
   "source": [
    "result = add('nasir','hussain') + sub('ali','hussain')\n",
    "print(result)"
   ]
  },
  {
   "cell_type": "code",
   "execution_count": 66,
   "metadata": {},
   "outputs": [
    {
     "name": "stdout",
     "output_type": "stream",
     "text": [
      "nasirhussain\n"
     ]
    }
   ],
   "source": [
    "#None miss value return nhi arhi ya to return nhi laga hoa wa ya phr return mai masla hai.\n",
    "result = add('nasir','hussain')\n",
    "print(result)"
   ]
  },
  {
   "cell_type": "code",
   "execution_count": null,
   "metadata": {},
   "outputs": [],
   "source": []
  },
  {
   "cell_type": "code",
   "execution_count": null,
   "metadata": {},
   "outputs": [],
   "source": []
  }
 ],
 "metadata": {
  "kernelspec": {
   "display_name": "Python 3",
   "language": "python",
   "name": "python3"
  },
  "language_info": {
   "codemirror_mode": {
    "name": "ipython",
    "version": 3
   },
   "file_extension": ".py",
   "mimetype": "text/x-python",
   "name": "python",
   "nbconvert_exporter": "python",
   "pygments_lexer": "ipython3",
   "version": "3.7.4"
  }
 },
 "nbformat": 4,
 "nbformat_minor": 2
}
