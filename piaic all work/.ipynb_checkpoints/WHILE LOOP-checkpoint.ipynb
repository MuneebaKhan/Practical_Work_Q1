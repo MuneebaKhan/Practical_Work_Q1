{
 "cells": [
  {
   "cell_type": "code",
   "execution_count": 2,
   "metadata": {},
   "outputs": [
    {
     "name": "stdout",
     "output_type": "stream",
     "text": [
      "0\n",
      "1\n",
      "2\n",
      "3\n",
      "4\n",
      "5\n",
      "6\n",
      "7\n",
      "8\n",
      "9\n"
     ]
    }
   ],
   "source": [
    "for a in range(10):\n",
    "    print(a)"
   ]
  },
  {
   "cell_type": "code",
   "execution_count": null,
   "metadata": {},
   "outputs": [
    {
     "name": "stdout",
     "output_type": "stream",
     "text": [
      "0\n",
      "1\n",
      "2\n"
     ]
    }
   ],
   "source": [
    "#Jb while loop or for loop jb tk chalta hai jb is ki iteration complete nhi hojaye\n",
    "#untile & unless ke hm continue or break na ajaye\n",
    "a = 0\n",
    "while a<10:\n",
    "    if a == 3:\n",
    "        continue\n",
    "    print(a)\n",
    "    a = a + 1"
   ]
  },
  {
   "cell_type": "code",
   "execution_count": null,
   "metadata": {},
   "outputs": [
    {
     "name": "stdout",
     "output_type": "stream",
     "text": [
      "Enter a topping: chesse\n"
     ]
    }
   ],
   "source": [
    "topping = []\n",
    "for a in range(5):\n",
    "    toppings = input(\"Enter a topping: \")\n",
    "    topping.append(toppings)\n",
    "print(topping)"
   ]
  },
  {
   "cell_type": "code",
   "execution_count": 1,
   "metadata": {},
   "outputs": [
    {
     "name": "stdout",
     "output_type": "stream",
     "text": [
      "Enter a topping: chesse\n",
      "Enter a topping: olive\n",
      "Enter a topping: stop\n",
      "['chesse', 'olive']\n"
     ]
    }
   ],
   "source": [
    "#for loop ke control mai nhi hota ke wo beech mai ruke jb tk iteration sari complete nhi hoti\n",
    "#while loop mai ye ability hoti ke use beech iteration mai roke sakte hain\n",
    "topping = []\n",
    "flag = True\n",
    "while flag:\n",
    "    toppings = input(\"Enter a topping: \")\n",
    "    if toppings == 'stop':\n",
    "        flag = False\n",
    "    else:\n",
    "        topping.append(toppings)\n",
    "print(topping)        \n",
    "    "
   ]
  },
  {
   "cell_type": "code",
   "execution_count": 1,
   "metadata": {},
   "outputs": [],
   "source": [
    "availableflavours = ['Fjita','Tikka','Mexican']\n",
    "availableSize = ['Large','medium','small']\n",
    "availabletoopings = ['olives','Chesse','Hurbs'] "
   ]
  },
  {
   "cell_type": "code",
   "execution_count": null,
   "metadata": {},
   "outputs": [
    {
     "name": "stdout",
     "output_type": "stream",
     "text": [
      "Pizza Order\n",
      "\n",
      "['Large', 'medium', 'small']\n"
     ]
    }
   ],
   "source": [
    "print(\"Pizza Order\")\n",
    "print()\n",
    "flag = True\n",
    "while flag:\n",
    "    print(availableSize)\n",
    "    size = input(\"Enter Pizza size: \")\n",
    "    if size not in availableSize:\n",
    "        print(f\"{size} is not available\")\n",
    "        print()\n",
    "        size=input(\"plz enter the pizza size: \")\n",
    "        print(f\"{size} is available\")\n",
    "    else:\n",
    "        print(f\"Pizza {size} is finsih\")"
   ]
  },
  {
   "cell_type": "code",
   "execution_count": null,
   "metadata": {},
   "outputs": [],
   "source": []
  }
 ],
 "metadata": {
  "kernelspec": {
   "display_name": "Python 3",
   "language": "python",
   "name": "python3"
  },
  "language_info": {
   "codemirror_mode": {
    "name": "ipython",
    "version": 3
   },
   "file_extension": ".py",
   "mimetype": "text/x-python",
   "name": "python",
   "nbconvert_exporter": "python",
   "pygments_lexer": "ipython3",
   "version": "3.7.4"
  }
 },
 "nbformat": 4,
 "nbformat_minor": 2
}
