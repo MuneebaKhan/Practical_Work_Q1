{
 "cells": [
  {
   "cell_type": "markdown",
   "metadata": {},
   "source": [
    "# JAVA SCRIPT OBJECT NOTATION"
   ]
  },
  {
   "cell_type": "markdown",
   "metadata": {},
   "source": [
    "JSON Ek traha ka data structure hai..JSON module javascript developer ne bnaya tha\n",
    "Assume for example ek database us mai data transfer karna hai lekn database ka datastructure diff hai or python ka datastructer diff hai\n",
    "why use JSON\n",
    "Hr language ne JSON ko support karna shuru kardia\n",
    "data ek language se dusri language mai transfer kar rehe hain.JSON easily karde ga.."
   ]
  },
  {
   "cell_type": "code",
   "execution_count": 3,
   "metadata": {},
   "outputs": [],
   "source": [
    "import json"
   ]
  },
  {
   "cell_type": "code",
   "execution_count": 4,
   "metadata": {},
   "outputs": [],
   "source": [
    "person1 = {'first_name': 'David','Last_name':'Watson','address':'5e5 nazimabad'}"
   ]
  },
  {
   "cell_type": "code",
   "execution_count": 5,
   "metadata": {},
   "outputs": [],
   "source": [
    "with open('Json_person.json','w')as f: #file name\n",
    "    json.dump(person1, f) # write ke jaga Dump use hota hai"
   ]
  },
  {
   "cell_type": "code",
   "execution_count": 6,
   "metadata": {},
   "outputs": [
    {
     "name": "stdout",
     "output_type": "stream",
     "text": [
      "{'first_name': 'David', 'Last_name': 'Watson', 'address': '5e5 nazimabad'}\n"
     ]
    }
   ],
   "source": [
    "with open('Json_person.json') as f: #argument pas karo ya na karo wo read suppose kare ka\n",
    "    x = json.load(f)#read ke liye load use kare ge\n",
    "    print(x)"
   ]
  },
  {
   "cell_type": "code",
   "execution_count": 7,
   "metadata": {},
   "outputs": [
    {
     "name": "stdout",
     "output_type": "stream",
     "text": [
      "{'first_name': 'David', 'Last_name': 'Watson', 'address': '5e5 nazimabad'}\n",
      "<class 'dict'>\n"
     ]
    }
   ],
   "source": [
    "with open('Json_person.json') as f: #argument pas karo ya na karo wo read suppose kare ka\n",
    "    x = json.load(f)#read ke liye load use kare ge\n",
    "    print(x)\n",
    "    print(type(x))"
   ]
  },
  {
   "cell_type": "code",
   "execution_count": 12,
   "metadata": {},
   "outputs": [],
   "source": [
    "list = ['samra','zarmina','zaid']\n",
    "with open ('Jsonprac.json','w')as f:\n",
    "    x = json.dump(list,f)"
   ]
  },
  {
   "cell_type": "code",
   "execution_count": 16,
   "metadata": {},
   "outputs": [],
   "source": [
    "with open ('Jsonprac.json','r') as f:\n",
    "    x = json.load(f)"
   ]
  },
  {
   "cell_type": "code",
   "execution_count": 17,
   "metadata": {},
   "outputs": [
    {
     "name": "stdout",
     "output_type": "stream",
     "text": [
      "['samra', 'zarmina', 'zaid']\n"
     ]
    }
   ],
   "source": [
    "print(x)"
   ]
  },
  {
   "cell_type": "code",
   "execution_count": null,
   "metadata": {},
   "outputs": [],
   "source": []
  }
 ],
 "metadata": {
  "kernelspec": {
   "display_name": "Python 3",
   "language": "python",
   "name": "python3"
  },
  "language_info": {
   "codemirror_mode": {
    "name": "ipython",
    "version": 3
   },
   "file_extension": ".py",
   "mimetype": "text/x-python",
   "name": "python",
   "nbconvert_exporter": "python",
   "pygments_lexer": "ipython3",
   "version": "3.7.4"
  }
 },
 "nbformat": 4,
 "nbformat_minor": 2
}
